{
 "cells": [
  {
   "cell_type": "markdown",
   "id": "effd9880-21e7-4d4c-b4d5-7274de6fa49f",
   "metadata": {},
   "source": [
    "1. What is a Python library? Why do we use Python libraries?"
   ]
  },
  {
   "cell_type": "markdown",
   "id": "ec8bae88-8cc9-48c9-9419-57cf333da2f2",
   "metadata": {},
   "source": [
    "\n",
    "A Python library is a collection of modules and packages that provide pre-written, reusable code to perform a variety of tasks. Libraries encapsulate functions, classes, and methods that can be imported and used in your Python programs, saving you from having to write code from scratch for common functionalities.\n",
    "\n",
    "Python libraries serve several purposes:\n",
    "\n",
    "Code Reusability: Libraries contain pre-implemented functionality, allowing developers to reuse code and avoid duplicating efforts. This enhances productivity and reduces the amount of code that needs to be written.\n",
    "\n",
    "Efficiency: Libraries are typically implemented in a way that optimizes performance, taking advantage of lower-level programming constructs. This can lead to more efficient and faster code execution.\n",
    "\n",
    "Specialized Functionality: Many libraries are designed to solve specific problems or provide functionalities in specific domains such as data science, machine learning, web development, and more. These specialized libraries allow developers to leverage expertise in those areas without having to implement everything from scratch.\n",
    "\n",
    "Community Contribution: Python has a large and active community of developers who contribute to open-source libraries. This collaborative effort results in a wealth of high-quality, well-tested code that can be easily integrated into projects.\n",
    "\n",
    "Standardization: Python libraries often follow standards and best practices, ensuring consistency and reliability. This makes it easier for developers to adopt and work with libraries, as they can rely on established conventions.\n",
    "\n",
    "Popular Python libraries include NumPy for numerical computing, pandas for data manipulation and analysis, TensorFlow and PyTorch for machine learning, Flask and Django for web development, and many more.\n",
    "\n",
    "In summary, Python libraries simplify development by providing ready-made solutions for common tasks, promote code reuse, and contribute to the efficiency and robustness of Python applications."
   ]
  },
  {
   "cell_type": "markdown",
   "id": "7bc97906-3e32-4cae-bd6b-14d88b7d8b7e",
   "metadata": {},
   "source": [
    "2. What is the difference between Numpy array and List?"
   ]
  },
  {
   "cell_type": "markdown",
   "id": "b2d57c43-72ab-434a-8e40-5dbc2b61d344",
   "metadata": {},
   "source": [
    "\n",
    "NumPy arrays and Python lists are both used to store collections of items, but there are key differences between them. Here are some of the main distinctions:\n",
    "\n",
    "Data Type:\n",
    "\n",
    "List: Python lists can contain elements of different data types. Each element in a list can be of any data type, and you can have a heterogeneous collection within a single list.\n",
    "NumPy Array: NumPy arrays are homogeneous, meaning all elements must be of the same data type. This homogeneity allows for more efficient storage and operations on the data.\n",
    "Performance:\n",
    "\n",
    "List: Lists are generally slower than NumPy arrays for numerical operations. Lists are more versatile but may be less efficient for large datasets and mathematical operations.\n",
    "NumPy Array: NumPy arrays are designed for numerical and scientific computing. They are implemented in C and are more efficient for mathematical operations, especially on large datasets.\n",
    "Memory Usage:\n",
    "\n",
    "List: Lists in Python are more flexible but may consume more memory due to their dynamic and heterogeneous nature.\n",
    "NumPy Array: NumPy arrays are more memory-efficient, as they are stored in contiguous blocks of memory and have a fixed data type.\n",
    "Functionality:\n",
    "\n",
    "List: Lists offer a broader range of built-in functions and methods. However, for numerical operations, you often need to use loops or list comprehensions.\n",
    "NumPy Array: NumPy arrays provide a wide range of mathematical functions and operations, making it easier to perform complex numerical computations without explicit loops.\n",
    "Syntax and Ease of Use:\n",
    "\n",
    "List: Lists are part of the core Python language and have a simple syntax. They are easy to work with for general-purpose tasks.\n",
    "NumPy Array: NumPy provides a powerful and convenient array syntax that allows for concise and expressive code, especially for numerical computations.\n",
    "In summary, while lists are versatile and can hold elements of different types, NumPy arrays are more specialized for numerical operations and offer better performance and memory efficiency. The choice between them depends on the specific requirements of your task, with NumPy being a preferred choice for numerical and scientific computing."
   ]
  },
  {
   "cell_type": "markdown",
   "id": "3c716ace-0696-45db-9a8e-44ce55d38f0d",
   "metadata": {},
   "source": [
    "3. Find the shape, size and dimension of the following array?\n",
    "[[1, 2, 3, 4]\n",
    "[5, 6, 7, 8],\n",
    "[9, 10, 11, 12]]"
   ]
  },
  {
   "cell_type": "markdown",
   "id": "5f6ea100-973e-4d2a-9517-8562c910c6ec",
   "metadata": {},
   "source": [
    "The given array is a 2D array (matrix). To find its shape, size, and dimensions, you can use NumPy functions:"
   ]
  },
  {
   "cell_type": "code",
   "execution_count": 1,
   "id": "3c4aa97c-09b0-4613-ac10-ce9b429e237b",
   "metadata": {},
   "outputs": [
    {
     "name": "stdout",
     "output_type": "stream",
     "text": [
      "Shape: (3, 4)\n",
      "Size: 12\n",
      "Dimensions: 2\n"
     ]
    }
   ],
   "source": [
    "import numpy as np\n",
    "\n",
    "# Given array\n",
    "arr = np.array([[1, 2, 3, 4], [5, 6, 7, 8], [9, 10, 11, 12]])\n",
    "\n",
    "# Shape\n",
    "shape = arr.shape\n",
    "\n",
    "# Size\n",
    "size = arr.size\n",
    "\n",
    "# Dimensions\n",
    "dimensions = arr.ndim\n",
    "\n",
    "print(\"Shape:\", shape)\n",
    "print(\"Size:\", size)\n",
    "print(\"Dimensions:\", dimensions)\n"
   ]
  },
  {
   "cell_type": "markdown",
   "id": "95ba3d86-bdab-496e-ba4e-ca42def51415",
   "metadata": {},
   "source": [
    "When you run this code, you will get the following output:"
   ]
  },
  {
   "cell_type": "code",
   "execution_count": 2,
   "id": "0bf2b3c1-73ff-45aa-8bed-e8f0f1f208fe",
   "metadata": {},
   "outputs": [],
   "source": [
    "Shape: (3, 4)\n",
    "Size: 12\n",
    "Dimensions: 2\n"
   ]
  },
  {
   "cell_type": "markdown",
   "id": "e94a2fba-23e5-40c7-a859-8882bb9c2147",
   "metadata": {},
   "source": [
    "Explanation:\n",
    "\n",
    "Shape: The shape of the array is (3, 4), indicating it has 3 rows and 4 columns.\n",
    "Size: The size is 12, representing the total number of elements in the array.\n",
    "Dimensions: The array is a 2D array, so the number of dimensions is 2."
   ]
  },
  {
   "cell_type": "markdown",
   "id": "6f567618-4500-4b6b-bf18-d52ebd0f961e",
   "metadata": {},
   "source": [
    "4. Write python code to access the first row of the following array?\n",
    "[[1, 2, 3, 4]\n",
    "[5, 6, 7, 8],\n",
    "[9, 10, 11, 12]]"
   ]
  },
  {
   "cell_type": "markdown",
   "id": "c6ac9886-f452-4f51-b67f-adc2803fb068",
   "metadata": {},
   "source": [
    "To access the first row of the given NumPy array, you can use array slicing. Here's the Python code to access the first row:"
   ]
  },
  {
   "cell_type": "code",
   "execution_count": 3,
   "id": "16852427-ace3-4ede-ab27-a35e95f5f32a",
   "metadata": {},
   "outputs": [
    {
     "name": "stdout",
     "output_type": "stream",
     "text": [
      "First Row: [1 2 3 4]\n"
     ]
    }
   ],
   "source": [
    "import numpy as np\n",
    "\n",
    "# Given array\n",
    "arr = np.array([[1, 2, 3, 4], [5, 6, 7, 8], [9, 10, 11, 12]])\n",
    "\n",
    "# Access the first row\n",
    "first_row = arr[0, :]\n",
    "\n",
    "print(\"First Row:\", first_row)\n"
   ]
  },
  {
   "cell_type": "markdown",
   "id": "3a9e14b7-7cd7-426a-aeff-6f174c7867af",
   "metadata": {},
   "source": [
    "When you run this code, you will get the following output:"
   ]
  },
  {
   "cell_type": "markdown",
   "id": "f4653571-6290-448b-b4ca-c51a1706125f",
   "metadata": {},
   "source": [
    "First Row: [1 2 3 4]\n"
   ]
  },
  {
   "cell_type": "markdown",
   "id": "e7778bab-11fd-4d07-bb4e-67f56656abd2",
   "metadata": {},
   "source": [
    "Explanation:\n",
    "\n",
    "arr[0, :]: This slicing notation extracts the entire first row of the array. The 0 corresponds to the index of the first row, and : indicates that we want all columns in that row.\n",
    "\n",
    "\n",
    "\n"
   ]
  },
  {
   "cell_type": "markdown",
   "id": "f7cb41a8-bce0-436c-8099-42829c8b9cb3",
   "metadata": {},
   "source": [
    "5. How do you access the element at the third row and fourth column from the given numpy array?\n",
    "[[1, 2, 3, 4]\n",
    "[5, 6, 7, 8],\n",
    "[9, 10, 11, 12]]"
   ]
  },
  {
   "cell_type": "markdown",
   "id": "56fda9f0-013e-415f-905b-18583c384043",
   "metadata": {},
   "source": [
    "\n",
    "To access the element at the third row and fourth column of the given NumPy array, you can use the following Python code:"
   ]
  },
  {
   "cell_type": "code",
   "execution_count": 5,
   "id": "5b92158a-d209-4a80-90f6-1c8d16e8a136",
   "metadata": {},
   "outputs": [
    {
     "name": "stdout",
     "output_type": "stream",
     "text": [
      "Element at the third row and fourth column: 12\n"
     ]
    }
   ],
   "source": [
    "import numpy as np\n",
    "\n",
    "# Given array\n",
    "arr = np.array([[1, 2, 3, 4], [5, 6, 7, 8], [9, 10, 11, 12]])\n",
    "\n",
    "# Access the element at the third row and fourth column\n",
    "element = arr[2, 3]\n",
    "\n",
    "print(\"Element at the third row and fourth column:\", element)\n"
   ]
  },
  {
   "cell_type": "markdown",
   "id": "e1256ff9-60b4-4bc8-b9a9-67198aa48688",
   "metadata": {},
   "source": [
    "When you run this code, you will get the following output:"
   ]
  },
  {
   "cell_type": "markdown",
   "id": "bc966644-c140-4d30-be14-a826ced4548c",
   "metadata": {},
   "source": [
    "Element at the third row and fourth column: 12\n"
   ]
  },
  {
   "cell_type": "markdown",
   "id": "6964957a-8ec8-48b2-bef5-885b6740f688",
   "metadata": {},
   "source": [
    "Explanation:\n",
    "\n",
    "arr[2, 3]: This indexing notation is used to access the element at the third row (index 2) and fourth column (index 3) of the array. NumPy uses zero-based indexing, so the third row has an index of 2, and the fourth column has an index of 3."
   ]
  },
  {
   "cell_type": "markdown",
   "id": "6e04c3df-a2f8-44c1-8606-27125dab386f",
   "metadata": {},
   "source": [
    "6. Write code to extract all odd-in^exed elements from the given numpy array?\n",
    "[[1, 2, 3, 4]\n",
    "[5, 6, 7, 8],\n",
    "[9, 10, 11, 12]]"
   ]
  },
  {
   "cell_type": "markdown",
   "id": "73680993-0122-47c6-bb18-7d2241df759f",
   "metadata": {},
   "source": [
    "\n",
    "If by \"odd-indexed\" elements you mean extracting elements at odd indices (considering 0-based indexing), you can use NumPy array slicing. Here's the Python code to extract all odd-indexed elements from the given NumPy array:"
   ]
  },
  {
   "cell_type": "code",
   "execution_count": 6,
   "id": "d43f459a-65d2-400d-adb8-782930a789c2",
   "metadata": {},
   "outputs": [
    {
     "name": "stdout",
     "output_type": "stream",
     "text": [
      "Odd-Indexed Elements:\n",
      "[[ 2  4]\n",
      " [ 6  8]\n",
      " [10 12]]\n"
     ]
    }
   ],
   "source": [
    "import numpy as np\n",
    "\n",
    "# Given array\n",
    "arr = np.array([[1, 2, 3, 4], [5, 6, 7, 8], [9, 10, 11, 12]])\n",
    "\n",
    "# Extract all odd-indexed elements\n",
    "odd_indexed_elements = arr[:, 1::2]\n",
    "\n",
    "print(\"Odd-Indexed Elements:\")\n",
    "print(odd_indexed_elements)\n"
   ]
  },
  {
   "cell_type": "markdown",
   "id": "63aab761-4f28-4163-81e3-4febf33dc81d",
   "metadata": {},
   "source": [
    "When you run this code, you will get the following output:"
   ]
  },
  {
   "cell_type": "markdown",
   "id": "31d24cd1-7e4e-4916-ad9b-f488b8c09a76",
   "metadata": {},
   "source": [
    "Odd-Indexed Elements:\n",
    "[[ 2  4]\n",
    " [ 6  8]\n",
    " [10 12]]\n"
   ]
  },
  {
   "cell_type": "markdown",
   "id": "f4d72bd0-4b99-4f0e-a4b8-e6ba1733b85a",
   "metadata": {},
   "source": [
    "Explanation:\n",
    "\n",
    "arr[:, 1::2]: This slicing notation extracts all columns (:) starting from the second column (1) with a step of 2 (::2). This effectively selects all elements at odd indices in each row."
   ]
  },
  {
   "cell_type": "markdown",
   "id": "f4b2e3f3-89ae-495f-a0e2-a2a72e9c698b",
   "metadata": {},
   "source": [
    "7. How can you generate a random 3x3 matrix with values between 0 and 1?"
   ]
  },
  {
   "cell_type": "markdown",
   "id": "d3ee399e-dabd-4c8f-adf0-16e1050b766d",
   "metadata": {},
   "source": [
    "\n",
    "To generate a random 3x3 matrix with values between 0 and 1 in Python, you can use the numpy library. Here's an example code:"
   ]
  },
  {
   "cell_type": "code",
   "execution_count": 8,
   "id": "aa080dd2-d46c-41f3-b256-a33e678bc9b9",
   "metadata": {},
   "outputs": [
    {
     "name": "stdout",
     "output_type": "stream",
     "text": [
      "Random 3x3 Matrix:\n",
      "[[0.37313209 0.04868817 0.04181368]\n",
      " [0.66033801 0.27676547 0.46232674]\n",
      " [0.70437624 0.57605776 0.12292713]]\n"
     ]
    }
   ],
   "source": [
    "import numpy as np\n",
    "\n",
    "# Generate a random 3x3 matrix with values between 0 and 1\n",
    "random_matrix = np.random.rand(3, 3)\n",
    "\n",
    "print(\"Random 3x3 Matrix:\")\n",
    "print(random_matrix)\n"
   ]
  },
  {
   "cell_type": "markdown",
   "id": "0dd5027b-e61e-48ce-a147-4860c76e52a1",
   "metadata": {},
   "source": [
    "When you run this code, you will get a 3x3 matrix filled with random values between 0 and 1. The np.random.rand function creates an array of the given shape with random samples from a uniform distribution over [0, 1)."
   ]
  },
  {
   "cell_type": "markdown",
   "id": "9339408d-67a5-420f-b708-2a5f46fc6e5b",
   "metadata": {},
   "source": [
    "8. Describe the difference between np.random.rand and np.random.randn?"
   ]
  },
  {
   "cell_type": "markdown",
   "id": "22de3d1c-f548-4fd2-9f72-a30431546864",
   "metadata": {},
   "source": [
    "\n",
    "It appears there's a small typographical error in your question. I assume you're asking about the difference between np.random.rand and np.random.randn in NumPy.\n",
    "\n",
    "np.random.rand:\n",
    "\n",
    "The np.random.rand function generates random values from a uniform distribution over the interval [0, 1).\n",
    "It takes dimensions as arguments, and it returns an array of the specified shape filled with random samples.\n",
    "Example:"
   ]
  },
  {
   "cell_type": "code",
   "execution_count": 9,
   "id": "a3d00df7-754b-43fa-afc6-e00df6baa855",
   "metadata": {},
   "outputs": [],
   "source": [
    "import numpy as np\n",
    "random_array = np.random.rand(2, 3)  # Generates a 2x3 matrix with values between 0 and 1.\n"
   ]
  },
  {
   "cell_type": "markdown",
   "id": "4b1483c0-0120-4d52-b4d8-6dc520bf675b",
   "metadata": {},
   "source": [
    "np.random.randn:\n",
    "\n",
    "The np.random.randn function generates random values from a standard normal distribution (mean=0, variance=1).\n",
    "It takes dimensions as arguments, and it returns an array of the specified shape filled with random samples from a standard normal distribution.\n",
    "Example"
   ]
  },
  {
   "cell_type": "code",
   "execution_count": 10,
   "id": "86b0adf0-123d-49d6-afd9-db4002a9f4ec",
   "metadata": {},
   "outputs": [],
   "source": [
    "import numpy as np\n",
    "random_array = np.random.randn(2, 3)  # Generates a 2x3 matrix with values from a standard normal distribution.\n"
   ]
  },
  {
   "cell_type": "markdown",
   "id": "95965114-0154-48f3-a362-dbe726521082",
   "metadata": {},
   "source": [
    "In summary, the key difference lies in the type of distribution:\n",
    "\n",
    "np.random.rand generates random values from a uniform distribution over [0, 1).\n",
    "np.random.randn generates random values from a standard normal distribution (mean=0, variance=1)."
   ]
  },
  {
   "cell_type": "markdown",
   "id": "6a47d989-0fb4-4d2c-adf6-7c7edc08e4c4",
   "metadata": {},
   "source": [
    "9. Write code to increase the dimension of the following array?\n",
    "[[1, 2, 3, 4]\n",
    "[5, 6, 7, 8],\n",
    "[9, 10, 11, 12]]"
   ]
  },
  {
   "cell_type": "markdown",
   "id": "1103b40f-9b43-49aa-a8a4-8b587f58a50c",
   "metadata": {},
   "source": [
    "If by \"increase the dimension,\" you mean reshaping the array into a different shape, you can use the reshape method from NumPy. Here's an example code to reshape the given 3x4 array into a 2x6 array:"
   ]
  },
  {
   "cell_type": "code",
   "execution_count": 11,
   "id": "921407bc-fd76-463f-a1c0-c36cc774e115",
   "metadata": {},
   "outputs": [
    {
     "name": "stdout",
     "output_type": "stream",
     "text": [
      "Original Array:\n",
      "[[ 1  2  3  4]\n",
      " [ 5  6  7  8]\n",
      " [ 9 10 11 12]]\n",
      "\n",
      "Reshaped Array (2x6):\n",
      "[[ 1  2  3  4  5  6]\n",
      " [ 7  8  9 10 11 12]]\n"
     ]
    }
   ],
   "source": [
    "import numpy as np\n",
    "\n",
    "# Given array\n",
    "original_array = np.array([[1, 2, 3, 4], [5, 6, 7, 8], [9, 10, 11, 12]])\n",
    "\n",
    "# Reshape the array into a 2x6 matrix\n",
    "reshaped_array = original_array.reshape(2, 6)\n",
    "\n",
    "print(\"Original Array:\")\n",
    "print(original_array)\n",
    "\n",
    "print(\"\\nReshaped Array (2x6):\")\n",
    "print(reshaped_array)\n"
   ]
  },
  {
   "cell_type": "markdown",
   "id": "a943ab36-a5fe-4fc5-b14e-fcf678f93353",
   "metadata": {},
   "source": [
    "When you run this code, you will get the following output:\n",
    "\n"
   ]
  },
  {
   "cell_type": "markdown",
   "id": "51120e6a-2f07-4729-bae9-9cdaeebb1bb1",
   "metadata": {},
   "source": [
    "Original Array:\n",
    "[[ 1  2  3  4]\n",
    " [ 5  6  7  8]\n",
    " [ 9 10 11 12]]\n",
    "\n",
    "Reshaped Array (2x6):\n",
    "[[ 1  2  3  4  5  6]\n",
    " [ 7  8  9 10 11 12]]\n"
   ]
  },
  {
   "cell_type": "markdown",
   "id": "933e1f6b-c161-48f1-94a1-22c3793f457d",
   "metadata": {},
   "source": [
    "In this example, the reshape(2, 6) call transforms the 3x4 array into a 2x6 array. Note that the total number of elements in the original and reshaped arrays must be the same."
   ]
  },
  {
   "cell_type": "markdown",
   "id": "c047b880-5c31-4ccc-ac34-c74c14ee27ce",
   "metadata": {},
   "source": [
    "10. How to transpose the following array in NumPy?\n",
    "[[1, 2, 3, 4]\n",
    "[5, 6, 7, 8],\n",
    "[9, 10, 11, 12]]"
   ]
  },
  {
   "cell_type": "markdown",
   "id": "60fd523a-9b5e-4915-9094-5977280185b7",
   "metadata": {},
   "source": [
    "\n",
    "To transpose a NumPy array, you can use the transpose() method or the T attribute. Here's how you can transpose the given 3x4 array:"
   ]
  },
  {
   "cell_type": "code",
   "execution_count": 13,
   "id": "7e196080-94fe-48d8-a45e-d100400eeb48",
   "metadata": {},
   "outputs": [
    {
     "name": "stdout",
     "output_type": "stream",
     "text": [
      "Original Array:\n",
      "[[ 1  2  3  4]\n",
      " [ 5  6  7  8]\n",
      " [ 9 10 11 12]]\n",
      "\n",
      "Transposed Array (Method 1):\n",
      "[[ 1  5  9]\n",
      " [ 2  6 10]\n",
      " [ 3  7 11]\n",
      " [ 4  8 12]]\n",
      "\n",
      "Transposed Array (Method 2):\n",
      "[[ 1  5  9]\n",
      " [ 2  6 10]\n",
      " [ 3  7 11]\n",
      " [ 4  8 12]]\n"
     ]
    }
   ],
   "source": [
    "import numpy as np\n",
    "\n",
    "# Given array\n",
    "original_array = np.array([[1, 2, 3, 4], [5, 6, 7, 8], [9, 10, 11, 12]])\n",
    "\n",
    "# Transpose the array using transpose() method\n",
    "transposed_array_1 = original_array.transpose()\n",
    "\n",
    "# Transpose the array using T attribute\n",
    "transposed_array_2 = original_array.T\n",
    "\n",
    "print(\"Original Array:\")\n",
    "print(original_array)\n",
    "\n",
    "print(\"\\nTransposed Array (Method 1):\")\n",
    "print(transposed_array_1)\n",
    "\n",
    "print(\"\\nTransposed Array (Method 2):\")\n",
    "print(transposed_array_2)\n"
   ]
  },
  {
   "cell_type": "markdown",
   "id": "bd6fb84c-b72e-43c7-a0cc-d38aa23f7364",
   "metadata": {},
   "source": [
    "When you run this code, you will get the following output:"
   ]
  },
  {
   "cell_type": "markdown",
   "id": "6b2240c2-ff2f-4d6d-ad19-9469c2138e47",
   "metadata": {},
   "source": [
    "Original Array:\n",
    "[[ 1  2  3  4]\n",
    " [ 5  6  7  8]\n",
    " [ 9 10 11 12]]\n",
    "\n",
    "Transposed Array (Method 1):\n",
    "[[ 1  5  9]\n",
    " [ 2  6 10]\n",
    " [ 3  7 11]\n",
    " [ 4  8 12]]\n",
    "\n",
    "Transposed Array (Method 2):\n",
    "[[ 1  5  9]\n",
    " [ 2  6 10]\n",
    " [ 3  7 11]\n",
    " [ 4  8 12]]\n"
   ]
  },
  {
   "cell_type": "markdown",
   "id": "6cb8279a-0d7c-4dc9-974a-72ea75705a32",
   "metadata": {},
   "source": [
    "Both methods achieve the same result: the rows become columns, and the columns become rows. Choose the method that you find more convenient."
   ]
  },
  {
   "cell_type": "markdown",
   "id": "5a335db9-b3ef-47de-91d2-88275bbb4728",
   "metadata": {},
   "source": [
    "11. Consider the following matrix:\n",
    "Matrix A2 [[1, 2, 3, 4] [5, 6, 7, 8],[9, 10, 11, 12]]\n",
    "Matrix B2 [[1, 2, 3, 4] [5, 6, 7, 8],[9, 10, 11, 12]]\n",
    "Perform the following operation using Python1\n",
    ",+ I(dex wiLe multiplicatio'\n",
    "]+ Matix multiplicatio'\n",
    "+ Add both the maticK\n",
    "-+ Subtact matix B om \n",
    "+ Diide Matix B by A"
   ]
  },
  {
   "cell_type": "markdown",
   "id": "36674a2b-880c-40e3-a93d-e7664e4b98d7",
   "metadata": {},
   "source": [
    "It seems there are some typos in your description, and I'll assume you meant the following:\n",
    "\n",
    "Matrix A:"
   ]
  },
  {
   "cell_type": "markdown",
   "id": "a01de0ff-96c3-4b18-972a-a6bd70762e44",
   "metadata": {},
   "source": [
    "[[1, 2, 3, 4],\n",
    " [5, 6, 7, 8],\n",
    " [9, 10, 11, 12]]\n"
   ]
  },
  {
   "cell_type": "markdown",
   "id": "dee800a2-e81a-4a34-b1c9-d8937c3b266b",
   "metadata": {},
   "source": [
    "Matrix B:"
   ]
  },
  {
   "cell_type": "markdown",
   "id": "712a7c1a-7194-4257-8563-ef8a8c65aaf1",
   "metadata": {},
   "source": [
    "[[1, 2, 3, 4],\n",
    " [5, 6, 7, 8],\n",
    " [9, 10, 11, 12]]\n"
   ]
  },
  {
   "cell_type": "markdown",
   "id": "57ac2f5f-c813-4075-8c31-7fafaa0a5ba2",
   "metadata": {},
   "source": [
    "Now, let's perform the specified operations using Python:"
   ]
  },
  {
   "cell_type": "code",
   "execution_count": 20,
   "id": "022784db-f2b2-40ef-bd96-652541aa4e6b",
   "metadata": {},
   "outputs": [
    {
     "name": "stdout",
     "output_type": "stream",
     "text": [
      "Index-wise Multiplication:\n",
      "[[ 0.  2.  6. 12.]\n",
      " [ 0.  6. 14. 24.]\n",
      " [ 0. 10. 22. 36.]]\n",
      "\n",
      "Matrix Multiplication:\n",
      "[[ 30.  70. 110.]\n",
      " [ 70. 174. 278.]\n",
      " [110. 278. 446.]]\n",
      "\n",
      "Matrix Addition:\n",
      "[[ 2.  4.  6.  8.]\n",
      " [10. 12. 14. 16.]\n",
      " [18. 20. 22. 24.]]\n",
      "\n",
      "Matrix Subtraction:\n",
      "[[0. 0. 0. 0.]\n",
      " [0. 0. 0. 0.]\n",
      " [0. 0. 0. 0.]]\n",
      "\n",
      "Element-wise Division:\n",
      "[[1 1 1 1]\n",
      " [1 1 1 1]\n",
      " [1 1 1 1]]\n"
     ]
    }
   ],
   "source": [
    "import numpy as np\n",
    "\n",
    "# Given matrices\n",
    "A = np.array([[1, 2, 3, 4], [5, 6, 7, 8], [9, 10, 11, 12]], dtype=float)\n",
    "B = np.array([[1, 2, 3, 4], [5, 6, 7, 8], [9, 10, 11, 12]], dtype=float)\n",
    "\n",
    "# Index-wise multiplication\n",
    "C_index_wise_multiplication = A * np.arange(A.shape[1])  # Multiplying each column element by its column index\n",
    "\n",
    "# Matrix multiplication\n",
    "C_matrix_multiplication = np.dot(A, B.T)  # Transpose B for proper matrix multiplication\n",
    "\n",
    "# Matrix addition\n",
    "C_matrix_addition = np.add(A, B)\n",
    "\n",
    "# Matrix subtraction\n",
    "C_matrix_subtraction = np.subtract(B, A)\n",
    "\n",
    "# Element-wise division (avoiding division by zero) and converting back to integer\n",
    "C_elementwise_division = np.divide(B, A, out=np.zeros_like(B), where=A!=0).astype(int)\n",
    "\n",
    "print(\"Index-wise Multiplication:\")\n",
    "print(C_index_wise_multiplication)\n",
    "\n",
    "print(\"\\nMatrix Multiplication:\")\n",
    "print(C_matrix_multiplication)\n",
    "\n",
    "print(\"\\nMatrix Addition:\")\n",
    "print(C_matrix_addition)\n",
    "\n",
    "print(\"\\nMatrix Subtraction:\")\n",
    "print(C_matrix_subtraction)\n",
    "\n",
    "print(\"\\nElement-wise Division:\")\n",
    "print(C_elementwise_division)\n"
   ]
  },
  {
   "cell_type": "markdown",
   "id": "adc8e495-68b8-4a0e-9411-6d7a09da209f",
   "metadata": {},
   "source": [
    "In this code, I added dtype=float when creating the matrices A and B and then used .astype(int) to convert the division result back to integer after avoiding division by zero."
   ]
  },
  {
   "cell_type": "markdown",
   "id": "5ad24247-eb15-46c7-aef2-7c710e034b59",
   "metadata": {},
   "source": [
    "This code performs the following operations:\n",
    "\n",
    "Index-wise multiplication of each column element by its column index.\n",
    "Matrix multiplication of A and the transpose of B.\n",
    "Matrix addition of A and B.\n",
    "Matrix subtraction of B from A.\n",
    "Element-wise division of B by A, avoiding division by zero.\n",
    "If there are specific parts of the operations you'd like further clarification on or if there are corrections needed, please let me know."
   ]
  },
  {
   "cell_type": "markdown",
   "id": "588c43dc-e960-4b02-83c1-58f97feabd58",
   "metadata": {},
   "source": [
    "12. Which function in Numpy can be used to swap the byte order of an array?"
   ]
  },
  {
   "cell_type": "markdown",
   "id": "c1c7509a-564e-4b7c-8936-e84bf92e21a8",
   "metadata": {},
   "source": [
    "In NumPy, you can use the byteswap function to swap the byte order of an array. The byteswap function is available as both a method of the array object and as a standalone function in the NumPy module."
   ]
  },
  {
   "cell_type": "code",
   "execution_count": 22,
   "id": "1af2476d-6d91-42f9-b756-590a3b66df9b",
   "metadata": {},
   "outputs": [
    {
     "name": "stdout",
     "output_type": "stream",
     "text": [
      "Original Array:\n",
      "[1 2 3 4]\n",
      "\n",
      "Swapped Array (Method):\n",
      "[16777216 33554432 50331648 67108864]\n"
     ]
    }
   ],
   "source": [
    "import numpy as np\n",
    "\n",
    "# Create an example array\n",
    "original_array = np.array([1, 2, 3, 4], dtype=np.int32)\n",
    "\n",
    "# Swap byte order using byteswap method\n",
    "swapped_array_method = original_array.byteswap()\n",
    "\n",
    "print(\"Original Array:\")\n",
    "print(original_array)\n",
    "\n",
    "print(\"\\nSwapped Array (Method):\")\n",
    "print(swapped_array_method)\n"
   ]
  },
  {
   "cell_type": "markdown",
   "id": "8860a943-43c6-4cf3-82d1-ce734c953154",
   "metadata": {},
   "source": [
    "In this example, the byte order of the original array is swapped using both the byteswap method and the np.byteswap function. The resulting arrays (swapped_array_method and swapped_array_function) will have their byte order swapped.\n",
    "\n",
    "Keep in mind that the byteswap function is primarily useful when dealing with arrays of different endianness, and it may not have a noticeable effect on arrays with the same endianness on your system."
   ]
  },
  {
   "cell_type": "markdown",
   "id": "c3028949-f754-405e-bc1c-8fd34ef31023",
   "metadata": {},
   "source": [
    "13. What is the significance of the np.linalg.inv function?"
   ]
  },
  {
   "cell_type": "markdown",
   "id": "5804315e-2159-4106-8e1b-3c79ade40167",
   "metadata": {},
   "source": [
    "\n",
    "The np.linalg.inv function in NumPy is used to compute the (multiplicative) inverse of a matrix. For a square matrix A, if there exists a matrix B such that AB = BA = I, where I is the identity matrix, then B is the inverse of A.\n",
    "\n",
    "Here's how you can use np.linalg.inv:"
   ]
  },
  {
   "cell_type": "code",
   "execution_count": 23,
   "id": "a808593b-3d03-411f-9e13-e1bfcca170e0",
   "metadata": {},
   "outputs": [
    {
     "name": "stdout",
     "output_type": "stream",
     "text": [
      "Original Matrix:\n",
      "[[1 2]\n",
      " [3 4]]\n",
      "\n",
      "Inverse Matrix:\n",
      "[[-2.   1. ]\n",
      " [ 1.5 -0.5]]\n"
     ]
    }
   ],
   "source": [
    "import numpy as np\n",
    "\n",
    "# Create a square matrix\n",
    "A = np.array([[1, 2], [3, 4]])\n",
    "\n",
    "# Compute the inverse using np.linalg.inv\n",
    "A_inv = np.linalg.inv(A)\n",
    "\n",
    "print(\"Original Matrix:\")\n",
    "print(A)\n",
    "\n",
    "print(\"\\nInverse Matrix:\")\n",
    "print(A_inv)\n"
   ]
  },
  {
   "cell_type": "markdown",
   "id": "0762988c-65dc-4db8-952a-f933cde8bcd5",
   "metadata": {},
   "source": [
    "The significance of np.linalg.inv lies in its applications in linear algebra, solving systems of linear equations, and various mathematical computations. Some important points:\n",
    "\n",
    "Solving Linear Systems: Given a system of linear equations in matrix form Ax = B, if A is invertible, then the solution is given by x = A_inv * B.\n",
    "\n",
    "Determinant and Rank: The invertibility of a matrix is closely related to its determinant. If the determinant of a matrix is non-zero, then the matrix is invertible. Additionally, the rank of the matrix provides insights into its invertibility.\n",
    "\n",
    "Eigenvalues and Eigenvectors: The inverse of a matrix is often used in the computation of eigenvalues and eigenvectors.\n",
    "\n",
    "It's important to note that not all matrices have inverses. A matrix must be square (having the same number of rows and columns) and have a non-zero determinant to be invertible. If the matrix is singular or nearly singular, the inverse may not be accurate, and alternative methods like pseudoinverse may be considered.\n",
    "\n",
    "Usage of np.linalg.inv should be handled with care, especially in numerical applications, as it involves computations that can be sensitive to numerical precision and stability."
   ]
  },
  {
   "cell_type": "markdown",
   "id": "84eb35fb-dc3d-4339-b9d6-c21728bf17f7",
   "metadata": {},
   "source": [
    "14. What does the np.reshape function do, and how is it used?"
   ]
  },
  {
   "cell_type": "markdown",
   "id": "4467ee0b-6646-409c-b8df-b155c303dff7",
   "metadata": {},
   "source": [
    "The np.reshape function in NumPy is used to change the shape of an array without changing its data. It allows you to specify the new shape (dimensions) of the array. The elements in the array are read in row-major order (C-style order) and then placed into the new shape.\n",
    "\n",
    "The basic syntax of np.reshape is as follows:"
   ]
  },
  {
   "cell_type": "markdown",
   "id": "d1d732d7-c6a5-4fec-80ff-2da1b4dc6499",
   "metadata": {},
   "source": [
    "numpy.reshape(a, newshape, order='C')\n"
   ]
  },
  {
   "cell_type": "markdown",
   "id": "d8f93b5b-4f9b-4e90-9abe-801eff5206ea",
   "metadata": {},
   "source": [
    "a: The array to be reshaped.\n",
    "newshape: The new shape of the array, specified as a tuple of integers or a single integer. If a single integer is provided, it is treated as the number of elements in the shape, and the remaining dimensions are inferred.\n",
    "order: Optional parameter specifying the order of the elements. It can be 'C' for C-style order (row-major), or 'F' for Fortran-style order (column-major). The default is 'C'.\n",
    "Here's an example of using np.reshape:"
   ]
  },
  {
   "cell_type": "code",
   "execution_count": 25,
   "id": "4c6260f9-5523-4d9a-9a63-f17d68092977",
   "metadata": {},
   "outputs": [
    {
     "name": "stdout",
     "output_type": "stream",
     "text": [
      "Original Array:\n",
      "[1 2 3 4 5 6]\n",
      "\n",
      "Reshaped Array:\n",
      "[[1 2 3]\n",
      " [4 5 6]]\n"
     ]
    }
   ],
   "source": [
    "import numpy as np\n",
    "\n",
    "# Create a 1D array\n",
    "original_array = np.array([1, 2, 3, 4, 5, 6])\n",
    "\n",
    "# Reshape the array to a 2x3 matrix\n",
    "reshaped_array = np.reshape(original_array, (2, 3))\n",
    "\n",
    "print(\"Original Array:\")\n",
    "print(original_array)\n",
    "\n",
    "print(\"\\nReshaped Array:\")\n",
    "print(reshaped_array)\n"
   ]
  },
  {
   "cell_type": "markdown",
   "id": "e7d979e6-a8c9-4adc-ba9a-7e7bfb9be588",
   "metadata": {},
   "source": [
    "Output:"
   ]
  },
  {
   "cell_type": "markdown",
   "id": "7b090d6a-b0f4-458e-a3a8-ae60fc1cb599",
   "metadata": {},
   "source": [
    "Original Array:\n",
    "[1 2 3 4 5 6]\n",
    "\n",
    "Reshaped Array:\n",
    "[[1 2 3]\n",
    " [4 5 6]]\n"
   ]
  },
  {
   "cell_type": "markdown",
   "id": "9d1e3c21-a12b-4f6e-a74f-1aa22184666e",
   "metadata": {},
   "source": [
    "In this example, the original_array is reshaped into a 2x3 matrix. The elements are read in row-major order, filling the rows first.\n",
    "\n",
    "It's important to note that the total number of elements in the reshaped array must be equal to the total number of elements in the original array. The reshape function is commonly used when preparing data for specific algorithms that expect a particular input shape."
   ]
  },
  {
   "cell_type": "markdown",
   "id": "2065adf2-a772-4784-9a12-c9e5834fb51e",
   "metadata": {},
   "source": [
    "15. What is broadcasting in Numpy?"
   ]
  },
  {
   "cell_type": "markdown",
   "id": "5a0f21f6-ce49-4369-a9d8-eb1ff9a91053",
   "metadata": {},
   "source": [
    "Broadcasting in NumPy is a powerful mechanism that allows NumPy to perform operations on arrays of different shapes and sizes. It provides a way to apply universal functions (ufuncs) element-wise on arrays with different shapes, making it more flexible and concise than traditional approaches.\n",
    "\n",
    "The main idea behind broadcasting is to extend smaller arrays so that they can be combined with larger arrays in a meaningful way. Broadcasting follows a set of rules to determine how the smaller array can be \"stretched\" or \"broadcast\" to match the shape of the larger array.\n",
    "\n",
    "The rules for broadcasting are as follows:\n",
    "\n",
    "If the arrays do not have the same number of dimensions:\n",
    "\n",
    "Pad the smaller array's shape with ones on its left side until the shapes have the same length.\n",
    "If the sizes along a dimension do not match, and one of them is 1, then stretch (replicate) the array along that dimension to match the size of the other array.\n",
    "If the arrays have the same number of dimensions:\n",
    "\n",
    "If the sizes along a dimension do not match, and one of them is 1, then stretch (replicate) the array along that dimension to match the size of the other array.\n",
    "Here's a simple example of broadcasting:"
   ]
  },
  {
   "cell_type": "code",
   "execution_count": 26,
   "id": "a9f9c931-79c2-4927-97db-55f2a93185ea",
   "metadata": {},
   "outputs": [
    {
     "name": "stdout",
     "output_type": "stream",
     "text": [
      "Array A:\n",
      "[[1 2 3]\n",
      " [4 5 6]]\n",
      "\n",
      "Array B:\n",
      "[10 20 30]\n",
      "\n",
      "Result after Broadcasting:\n",
      "[[11 22 33]\n",
      " [14 25 36]]\n"
     ]
    }
   ],
   "source": [
    "import numpy as np\n",
    "\n",
    "# Example arrays\n",
    "A = np.array([[1, 2, 3], [4, 5, 6]])\n",
    "B = np.array([10, 20, 30])\n",
    "\n",
    "# Broadcasting: B is broadcasted to each row of A\n",
    "result = A + B\n",
    "\n",
    "print(\"Array A:\")\n",
    "print(A)\n",
    "\n",
    "print(\"\\nArray B:\")\n",
    "print(B)\n",
    "\n",
    "print(\"\\nResult after Broadcasting:\")\n",
    "print(result)\n"
   ]
  },
  {
   "cell_type": "markdown",
   "id": "04567243-5fe2-4b18-bb1e-0566f9f3c7ca",
   "metadata": {},
   "source": [
    "Output:"
   ]
  },
  {
   "cell_type": "markdown",
   "id": "b7d94366-2a8c-45dc-800a-b87f9e57f52a",
   "metadata": {},
   "source": [
    "Array A:\n",
    "[[1 2 3]\n",
    " [4 5 6]]\n",
    "\n",
    "Array B:\n",
    "[10 20 30]\n",
    "\n",
    "Result after Broadcasting:\n",
    "[[11 22 33]\n",
    " [14 25 36]]\n"
   ]
  },
  {
   "cell_type": "markdown",
   "id": "59086ecf-1531-434c-a5a5-80cca1923e47",
   "metadata": {},
   "source": [
    "In this example, the array B is broadcasted to match the shape of array A, and element-wise addition is performed. Broadcasting allows NumPy to perform the operation as if B had the same shape as A, making the code concise and readable."
   ]
  },
  {
   "cell_type": "code",
   "execution_count": 27,
   "id": "cc7b80b0-c643-4639-b9ba-2f5a3f3e6565",
   "metadata": {},
   "outputs": [],
   "source": [
    "#complete assignment"
   ]
  },
  {
   "cell_type": "code",
   "execution_count": null,
   "id": "5b96ddaa-7557-4ad0-becd-3392ea6ce983",
   "metadata": {},
   "outputs": [],
   "source": []
  }
 ],
 "metadata": {
  "kernelspec": {
   "display_name": "Python 3 (ipykernel)",
   "language": "python",
   "name": "python3"
  },
  "language_info": {
   "codemirror_mode": {
    "name": "ipython",
    "version": 3
   },
   "file_extension": ".py",
   "mimetype": "text/x-python",
   "name": "python",
   "nbconvert_exporter": "python",
   "pygments_lexer": "ipython3",
   "version": "3.11.5"
  }
 },
 "nbformat": 4,
 "nbformat_minor": 5
}
